{
 "cells": [
  {
   "cell_type": "markdown",
   "id": "12d0da8b",
   "metadata": {},
   "source": [
    "# Direito Administrativo\n",
    "O Direito administrativo é um ramo autônomo do Direito Público, e trata de tudo a respeito da função administrativa. Abrangendo a todos os órgãos, agentes e atividades que a Administração Pública exerce.\n",
    "> **O principal objetivo desta modalidade é a sistematização do interesse público.**\n",
    "\n",
    "A função administrativa, nada mais é que a atividade exercida pelo Estado pelos seus órgãos responsáveis pelo desempenho de atribuições públicas, ou seja, é o conjunto de órgãos instituídos e necessários que tem comok função alcançar os objetivos do governo.\n",
    "\n",
    "Essa função, geralmente é exercida pelo Poder Executivo, mas os demais poderes também podem vir a desempenhar, em caráter atípico. Os poderes Legislativo e Judiciário, apesar de terem suas funções típidas bem definidas, também desempenham as administrativas como quando realizam as nomeações de seus servidores, fazem licitações, efetivam contratos administrativos, entre outros serviços.\n",
    "> **Realizar um ato administrativo é: controlar de maneira concreta seus quadros e atividades**\n",
    "\n",
    "A função administrativa se assemelha à aplicação do Direito, tem seus princípios e aplicação de leis.\n",
    "\n",
    "## Princípios da Administração Pública\n",
    "A Administração Pública segue princípios que são fundamentais para o seu bom funcionamento. Os princípios são:\n",
    "* Legalidade;  \n",
    "* Impessoalidade;  \n",
    "* Moralidade;  \n",
    "* Publicidade;  \n",
    "* Eficiência .  \n",
    "Estes são os mandamentos de otimização, que tem por característica poderem ser cumpridos em diferentes graus.  \n",
    "Saber sobre os princípios, em detalhes, com seus conceitos bem definidos e com exemplos do cotidiano ajuda para que se tenha uma imagem clara de como funciona a Administração Pública na prática, já que o **Direito Administrativo** trabalha diretamente com essa função.\n",
    "\n",
    "## Responsabilidade do Servidor Público\n",
    "A responsabilidade do servidor está ligada diretamente às leis. As responsabilidades do servidor servem, primeiramente, para o cumprimento das leis, já que estas são utilizadas para punir, em caso de descumprimentos. As responsabilidades dos servidores públicos são:\n",
    "* Civil\n",
    "> A **Responsabilidade Civil** é quando o servidor tem a obrigação de reparar qualquer culpa ou dolo cometido contra a Administração Pública. \n",
    "* Administrativa\n",
    "> A **Responsabilidade Administrativa** ocorre quando o servidor em atividade pratica um ato comissivo ou omissivo contra a Administração Pública. As responsabilidades, assim como a sua aplicação na lei, devem ser debatidos por completo para que todo o assunto fique bem esclarecido, já que é um ponto de destaque.\n",
    "* Penal\n",
    "> A **Responsabilidade Penal** é quando o servidor comete algum crime contra a Administração Pública, definido por lei. Em caso de crime, o servidor será julgado, e será aplicado sobre ele pena ou absolvição. Uma das penas que podem ser aplicadas é o da demissão.\n",
    "\n",
    "## Poderes e Deveres da Administração Pública\n",
    "A Administração Pública tem seus deveres a serem cumpridos e seus poderes, que podem ser relacionados com os direitos do cidadão. Os poderes são investidos de acordo com o cargo e prestação de serviços, sento estes sem privilégios, seguindo o Princípio da Impessoalidade.  \n",
    "> O Brasil, por ser um Estado Democrático, não reconhece privilégios pessoais; só permite o interesse público e coletivo.\n",
    "\n",
    "## Os Poderes\n",
    "A Administração Pública conta com os seguintes poderes:\n",
    "* Discricionário: a Administração pode optar por uma ou mais soluções, seguindo o critério que melhor atenda o interesse público;\n",
    "* Hierárquico: onde segue a hierarquia, o chefe pode ordenar, fiscalizar ou controlar as atividades exercidas pelos seus subordinados;\n",
    "* Disciplinar: a Administração Pública tem o poder de apurar infrações e, caso ocorra, pode aplicar sanções administrativas;\n",
    "* Normativo: se refere à edição de atos, decretos, instruções normativas, regimentos, deliberações e resoluções;\n",
    "* Polícia: pode condicionar ou restringir o exercício de direitos individuais, se estes ferirem o interesse público.\n",
    "\n",
    "## Deveres da Administração Pública\n",
    "A Administração Pública tem que seguir os seguintes deveres:\n",
    "* Eficiência: é a \"boa administração\", onde o poder público deve exercer suas atividades e funções com prestreza, perfeição e com rendimento funcional;\n",
    "* Probidade: está condicionado à conduta do administrador público;\n",
    "* Prestar Contas: todo administrador público deve prestar contas de sua gestão administrativa, de forma pública.\n",
    "\n",
    "## Estrutura da Administração Pública\n",
    "Administração Pública é dividida entre:\n",
    "* Administração Direta:\n",
    "> Pessoas jurídicas políticas da: União, dos Estados, dos Municípios e do DF. Ela pode criar órgãos, nomear autoridades e ainda pode se basear nas divisões territoriais.\n",
    "* Administração Indireta:\n",
    "> Autarquias, fundações, sociedades de economia mista, empresas públicas e os consórcios públicos. Na indireta, o poder público pode criar ou autorizar a criação por meio de lei, a atribuição de titularidade e execução de algum serviço público.\n",
    "\n",
    "### Ato Administrativo\n",
    "É uma ação jurídica feita por parte da Administração Pública que produz efeitos imediatos e, está sujeito ao controle do Poder Judiciário. É todo ato lícito que tem por objetivo imediato resguardar, adquirir, modificar, transferir ou extinguir direito e só pode ser praticado por um agente público.\n",
    "\n",
    "### Processo Administrativo\n",
    "Processo é uma sequencia de ações que caminham para chegar a um fim, ou seja, um conjunto de ações que são tomadas para encontrar uma solução.  \n",
    "O Processo Administrativo atua, por meio de processos, por exigência constitucional. (???)\n",
    "\n",
    "### As Fontes do Direito Administrativo\n",
    "O **Direito Administrativo** necessita de fontes para seu bom funcionamento, ou seja, precisa seguir fundamentos para que tudo ocorra de maneira correta.  \n",
    "Os preceitos normativos dos ordenamentos jurídicos, podendo ser decorrentes de regras ou princípios contidos na Constituição, nas leis e nos atos para que possam ser editados pelo Poder Executivo para a execução da lei. Outra fonte é a jurisprudência, que é a reunião de diversos julgados no mesmo sentido, que pode ser fonte primária caso haja Súmula Vinculante. A doutrina é tudo que está expresso nos livros, em artigos e pareceres, usados na elaboração de enunciados normativos, atos administrativos ou sentenças judiciais. E, por fim, os costumes ou praxe administrativa.  \n",
    "Importante salientar que, todos os princípios e regras presentes nos preceitos normativos são considerados fontes primárias. As demais fontes, geralmente são consideradas fontes secundárias, salvo exceções, como é o caso da jurisprudência quando há Súmula Vinculante.\n",
    "\n",
    "### Personalidade Jurídica do Estado\n",
    "Todos nós, desde que nascemos, possuímos personalidade, que é um atributo essencial para se ter direitos. Todas as pessoas tem direito e a personalidade jurídica é o meio de adquirí-los.  \n",
    "O Estado possui personalidade jurídica quando é concedido direitos a ele. O Código Civil afirma que pessoas jurídicas são de direito pública interno, ou externo e de direito privado. Portanto, a personalidade jurídica do Estado é personificar ele, seja a União, os Estados, DF e Municípios. Todos são de personalidade interna, salvo exceções como a da União ao mantar relações com Estados internacionais.\n",
    "\n"
   ]
  },
  {
   "cell_type": "code",
   "execution_count": null,
   "id": "5c873ae7",
   "metadata": {},
   "outputs": [],
   "source": []
  }
 ],
 "metadata": {
  "kernelspec": {
   "display_name": "Python 3 (ipykernel)",
   "language": "python",
   "name": "python3"
  },
  "language_info": {
   "codemirror_mode": {
    "name": "ipython",
    "version": 3
   },
   "file_extension": ".py",
   "mimetype": "text/x-python",
   "name": "python",
   "nbconvert_exporter": "python",
   "pygments_lexer": "ipython3",
   "version": "3.9.7"
  },
  "varInspector": {
   "cols": {
    "lenName": 16,
    "lenType": 16,
    "lenVar": 40
   },
   "kernels_config": {
    "python": {
     "delete_cmd_postfix": "",
     "delete_cmd_prefix": "del ",
     "library": "var_list.py",
     "varRefreshCmd": "print(var_dic_list())"
    },
    "r": {
     "delete_cmd_postfix": ") ",
     "delete_cmd_prefix": "rm(",
     "library": "var_list.r",
     "varRefreshCmd": "cat(var_dic_list()) "
    }
   },
   "types_to_exclude": [
    "module",
    "function",
    "builtin_function_or_method",
    "instance",
    "_Feature"
   ],
   "window_display": false
  }
 },
 "nbformat": 4,
 "nbformat_minor": 5
}
